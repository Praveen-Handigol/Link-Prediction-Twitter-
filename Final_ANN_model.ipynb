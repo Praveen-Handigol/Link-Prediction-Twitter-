{
 "cells": [
  {
   "cell_type": "code",
   "execution_count": 16,
   "id": "630db747",
   "metadata": {},
   "outputs": [
    {
     "name": "stdout",
     "output_type": "stream",
     "text": [
      "57/57 [==============================] - 0s 796us/step\n",
      "57/57 [==============================] - 0s 1ms/step\n",
      "57/57 [==============================] - 0s 893us/step\n",
      "57/57 [==============================] - 0s 710us/step\n",
      "57/57 [==============================] - 0s 804us/step\n",
      "57/57 [==============================] - 0s 664us/step\n",
      "57/57 [==============================] - 0s 620us/step\n",
      "57/57 [==============================] - 0s 906us/step\n",
      "57/57 [==============================] - 0s 749us/step\n",
      "57/57 [==============================] - 0s 795us/step\n",
      "57/57 [==============================] - 0s 828us/step\n",
      "Mean Accuracy: 0.8369000451447014\n"
     ]
    }
   ],
   "source": [
    "import numpy as np\n",
    "import pandas as pd\n",
    "from sklearn.model_selection import StratifiedKFold\n",
    "from sklearn.preprocessing import StandardScaler\n",
    "from sklearn.metrics import accuracy_score\n",
    "import tensorflow as tf\n",
    "from tensorflow.keras.models import Sequential\n",
    "from tensorflow.keras.layers import Dense\n",
    "\n",
    "# Load your data\n",
    "df_pars_train = pd.read_csv('Trainset_features_10000.csv')\n",
    "df_pars_test = pd.read_csv('Testset_features.csv')\n",
    "\n",
    "pars_train = np.array(df_pars_train)\n",
    "pars_test = np.array(df_pars_test)\n",
    "\n",
    "X = pars_train[:, 3:]\n",
    "y = pars_train[:, 2]\n",
    "\n",
    "X_testset = pars_test[:, 2:]\n",
    "\n",
    "# Define the number of folds (k)\n",
    "k = 11  # You can change this to your desired number of folds\n",
    "\n",
    "# Initialize a stratified k-fold cross-validator\n",
    "kf = StratifiedKFold(n_splits=k, shuffle=True, random_state=0)\n",
    "\n",
    "# Initialize lists to store the evaluation results for each fold\n",
    "accuracy_scores = []\n",
    "\n",
    "for train_index, val_index in kf.split(X, y):\n",
    "    X_train_fold, X_val_fold = X[train_index], X[val_index]\n",
    "    y_train_fold, y_val_fold = y[train_index], y[val_index]\n",
    "\n",
    "    # Standardize the data\n",
    "    sc = StandardScaler()\n",
    "    sc.fit(X_train_fold)\n",
    "    X_train_std_fold = sc.transform(X_train_fold)\n",
    "    X_val_std_fold = sc.transform(X_val_fold)\n",
    "    X_testset_std = sc.transform(X_testset)\n",
    "\n",
    "    # Create and compile the model\n",
    "    ann = Sequential()\n",
    "    ann.add(Dense(units=11, activation=tf.nn.leaky_relu))\n",
    "    ann.add(Dense(units=128))\n",
    "    ann.add(tf.keras.layers.PReLU())\n",
    "    ann.add(Dense(units=32))\n",
    "    ann.add(tf.keras.layers.PReLU())\n",
    "    ann.add(Dense(units=1, activation=\"sigmoid\"))\n",
    "    ann.compile(optimizer=\"adam\", loss=\"binary_crossentropy\", metrics=['accuracy'])\n",
    "\n",
    "    # Train the model\n",
    "    ann.fit(X_train_std_fold, y_train_fold, batch_size=32, epochs=30, verbose=0)\n",
    "\n",
    "    # Evaluate the model on the validation set\n",
    "    y_pred_fold = ann.predict(X_val_std_fold)\n",
    "    y_pred_fold = np.where(y_pred_fold > 0.5, 1, 0)\n",
    "    accuracy = accuracy_score(y_val_fold, y_pred_fold)\n",
    "    accuracy_scores.append(accuracy)\n",
    "\n",
    "# Calculate the mean accuracy across all folds\n",
    "mean_accuracy = np.mean(accuracy_scores)\n",
    "\n",
    "# Print the mean accuracy\n",
    "print(\"Mean Accuracy:\", mean_accuracy)\n"
   ]
  },
  {
   "cell_type": "code",
   "execution_count": 17,
   "id": "8d43bbf9",
   "metadata": {},
   "outputs": [
    {
     "name": "stdout",
     "output_type": "stream",
     "text": [
      "63/63 [==============================] - 0s 565us/step\n"
     ]
    }
   ],
   "source": [
    "y_pred_ANN =ann.predict(X_testset_std)\n",
    "df_y_pred_ANN = pd.DataFrame(y_pred_ANN)\n",
    "df_y_pred_ANN.to_csv('Test_Submission_10000_ANN_0930_11.csv')"
   ]
  },
  {
   "cell_type": "code",
   "execution_count": null,
   "id": "bf1acbbc",
   "metadata": {},
   "outputs": [],
   "source": [
    "## for k = 5, accuarcy 0.8385\n",
    "## for k = 6, accuarcy 0.8395\n",
    "## for k = 7, accuarcy 0.8405\n",
    "## for k = 8, accuarcy 0.839\n",
    "## for k = 9, accuarcy 0.8387\n",
    "## for k = 10, accuarcy 0.8391"
   ]
  }
 ],
 "metadata": {
  "kernelspec": {
   "display_name": "Python 3 (ipykernel)",
   "language": "python",
   "name": "python3"
  },
  "language_info": {
   "codemirror_mode": {
    "name": "ipython",
    "version": 3
   },
   "file_extension": ".py",
   "mimetype": "text/x-python",
   "name": "python",
   "nbconvert_exporter": "python",
   "pygments_lexer": "ipython3",
   "version": "3.11.4"
  }
 },
 "nbformat": 4,
 "nbformat_minor": 5
}
